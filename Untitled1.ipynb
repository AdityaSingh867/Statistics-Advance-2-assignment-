{
 "cells": [
  {
   "cell_type": "markdown",
   "id": "39e6eb19-350b-463f-9c30-f51c3f9083f4",
   "metadata": {},
   "source": [
    "![](20230423_135059.jpg)"
   ]
  },
  {
   "cell_type": "code",
   "execution_count": null,
   "id": "bc05c453-f5fe-4936-b48e-f403a6ec36cb",
   "metadata": {},
   "outputs": [],
   "source": []
  }
 ],
 "metadata": {
  "kernelspec": {
   "display_name": "Python 3 (ipykernel)",
   "language": "python",
   "name": "python3"
  },
  "language_info": {
   "codemirror_mode": {
    "name": "ipython",
    "version": 3
   },
   "file_extension": ".py",
   "mimetype": "text/x-python",
   "name": "python",
   "nbconvert_exporter": "python",
   "pygments_lexer": "ipython3",
   "version": "3.10.8"
  }
 },
 "nbformat": 4,
 "nbformat_minor": 5
}
